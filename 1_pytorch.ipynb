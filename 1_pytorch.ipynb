{
  "cells": [
    {
      "cell_type": "markdown",
      "metadata": {
        "id": "view-in-github",
        "colab_type": "text"
      },
      "source": [
        "<a href=\"https://colab.research.google.com/github/SimoneBendazzoli93/PINN/blob/main/1_pytorch.ipynb\" target=\"_parent\"><img src=\"https://colab.research.google.com/assets/colab-badge.svg\" alt=\"Open In Colab\"/></a>"
      ]
    },
    {
      "cell_type": "markdown",
      "metadata": {
        "id": "23LdnATbk9jj"
      },
      "source": [
        "## Programming model"
      ]
    },
    {
      "cell_type": "markdown",
      "metadata": {
        "id": "US2W7qoOk9jm"
      },
      "source": [
        "#### Babylonian method square root\n",
        "Compute $\\sqrt{x}$.\n",
        "##### How?\n",
        "Continue $ s \\leftarrow (s + x /s) / 2 $ till $ s \\rightarrow \\sqrt{x}$."
      ]
    },
    {
      "cell_type": "code",
      "execution_count": null,
      "metadata": {
        "id": "l6PBv2Fmk9jn",
        "outputId": "0dbc1162-aa31-4929-8465-d91019c8980e"
      },
      "outputs": [
        {
          "name": "stdout",
          "output_type": "stream",
          "text": [
            "Sqrt from Babylonian Approach: 1.414213562373095\n",
            "Sqrt from NumPy Approach is: 1.4142135623730951\n"
          ]
        }
      ],
      "source": [
        "### Python routine for implementation of Babylonian apporach\n",
        "\n",
        "import numpy as np\n",
        "\n",
        "def babylon(x, N):\n",
        "    s = (1.0 + x)/2.0\n",
        "    for i in range(1, N):\n",
        "        s = (s + x/s) / 2.0\n",
        "    return s\n",
        "\n",
        "x = 2.0\n",
        "print(f\"Sqrt from Babylonian Approach: {babylon(x, 10)}\")\n",
        "print(f\"Sqrt from NumPy Approach is: {np.sqrt(x)}\")"
      ]
    },
    {
      "cell_type": "code",
      "execution_count": null,
      "metadata": {
        "id": "9wXbx5E_k9jo",
        "outputId": "632d7509-8f5b-45f2-ec12-2f849fc3ed5d"
      },
      "outputs": [
        {
          "name": "stdout",
          "output_type": "stream",
          "text": [
            "value of sqrt(x) is : 1.414213562373095\n",
            "Derivative of sqrt(x) is: 0.35355339059327373\n",
            "Analytical derivative of sqrt(x) is: 0.35355339059327373\n"
          ]
        }
      ],
      "source": [
        "### Python routine for differentiations of Babylonian routine\n",
        "\n",
        "def diff_babylonian(x, N):\n",
        "    s = (1.0 + x)/2.0\n",
        "    s_prime = 1.0/ 2.0\n",
        "    for i in range(1, N):\n",
        "        s = (s + x/s) / 2.0\n",
        "        s_prime = (1/2.0)*(s_prime + (s - x * s_prime)/(s**2))\n",
        "    return s, s_prime\n",
        "\n",
        "s, s_prime = diff_babylonian(2, 10)\n",
        "\n",
        "print(f\"value of sqrt(x) is : {s}\")\n",
        "print(f\"Derivative of sqrt(x) is: {s_prime}\")\n",
        "print(f\"Analytical derivative of sqrt(x) is: {0.5 *1/np.sqrt(2)}\")\n"
      ]
    },
    {
      "cell_type": "code",
      "execution_count": null,
      "metadata": {
        "id": "AFh9A5A2k9jp",
        "outputId": "cfa7711e-5878-4d13-e3fd-7730c067f835"
      },
      "outputs": [
        {
          "name": "stdout",
          "output_type": "stream",
          "text": [
            "Requirement already satisfied: sympy in /Users/raj/opt/anaconda3/lib/python3.8/site-packages (1.8)\n",
            "Requirement already satisfied: mpmath>=0.19 in /Users/raj/opt/anaconda3/lib/python3.8/site-packages (from sympy) (1.2.1)\n",
            "\u001b[33mWARNING: You are using pip version 22.0.4; however, version 22.3.1 is available.\n",
            "You should consider upgrading via the '/Users/raj/opt/anaconda3/bin/python -m pip install --upgrade pip' command.\u001b[0m\u001b[33m\n",
            "\u001b[0m"
          ]
        }
      ],
      "source": [
        "!pip install sympy"
      ]
    },
    {
      "cell_type": "code",
      "execution_count": null,
      "metadata": {
        "id": "FAeLShCRk9jp",
        "outputId": "b6e7ea12-e1eb-4799-f62c-d444fb3b2894"
      },
      "outputs": [
        {
          "name": "stdout",
          "output_type": "stream",
          "text": [
            "Symbolic for Function Evaluation\n",
            "0.5*x + 0.5\n",
            "0.5*x + 0.5\n",
            "0.25*x + 1.0*x/(x + 1) + 0.25\n",
            "(0.015625*x**4 + 0.4375*x**3 + 1.09375*x**2 + 0.4375*x + 0.015625)/(0.125*x**3 + 0.875*x**2 + 0.875*x + 0.125)\n",
            "(6.103515625e-5*x**8 + 0.00732421875*x**7 + 0.111083984375*x**6 + 0.48876953125*x**5 + 0.7855224609375*x**4 + 0.48876953125*x**3 + 0.111083984375*x**2 + 0.00732421875*x + 6.103515625e-5)/(0.0009765625*x**7 + 0.0341796875*x**6 + 0.2666015625*x**5 + 0.6982421875*x**4 + 0.6982421875*x**3 + 0.2666015625*x**2 + 0.0341796875*x + 0.0009765625)\n",
            "***********+++++++***********\n",
            "***********+++++++***********\n",
            "***********+++++++***********\n",
            "Symbolic for Derivative Evaluation\n",
            "0.500000000000000\n",
            "0.500000000000000\n",
            "0.25 + 1.0/(x + 1)**2\n",
            "(0.0009765625*x**6 + 0.013671875*x**5 + 0.1435546875*x**4 + 0.33203125*x**3 + 0.3662109375*x**2 + 0.123046875*x + 0.0205078125)/(0.0078125*x**6 + 0.109375*x**5 + 0.4921875*x**4 + 0.78125*x**3 + 0.4921875*x**2 + 0.109375*x + 0.0078125)\n",
            "(3.72529029846191e-9*x**20 + 3.87430191040039e-7*x**19 + 2.16737389564514e-5*x**18 + 0.000664353370666504*x**17 + 0.0112408436834812*x**16 + 0.115458369255066*x**15 + 0.761909335851669*x**14 + 3.33969330787659*x**13 + 9.95655024796724*x**12 + 20.4859389662743*x**11 + 29.3279034942389*x**10 + 29.3301267623901*x**9 + 20.4844993725419*x**8 + 9.95705211162567*x**7 + 3.33972844481468*x**6 + 0.761770963668823*x**5 + 0.11552881076932*x**4 + 0.0112256109714508*x**3 + 0.000664331018924713*x**2 + 2.22921371459961e-5*x + 3.16649675369263e-7)/(5.96046447753906e-8*x**20 + 6.19888305664063e-6*x**19 + 0.000261664390563965*x**18 + 0.00583887100219727*x**17 + 0.0763652920722961*x**16 + 0.625497817993164*x**15 + 3.35175752639771*x**14 + 12.0893878936768*x**13 + 29.8995410203934*x**12 + 51.2792692184448*x**11 + 61.3441488742828*x**10 + 51.2792692184448*x**9 + 29.8995410203934*x**8 + 12.0893878936768*x**7 + 3.35175752639771*x**6 + 0.625497817993164*x**5 + 0.0763652920722961*x**4 + 0.00583887100219727*x**3 + 0.000261664390563965*x**2 + 6.19888305664063e-6*x + 5.96046447753906e-8)\n"
          ]
        }
      ],
      "source": [
        "import sympy as sp\n",
        "x = sp.symbols(\"x\")\n",
        "\n",
        "# Symbolic for Function Evaluation\n",
        "print(\"Symbolic for Function Evaluation\")\n",
        "for i in range(0, 5):\n",
        "    print(sp.simplify(babylon(x, i)))\n",
        "\n",
        "print(\"***********+++++++***********\")\n",
        "print(\"***********+++++++***********\")\n",
        "print(\"***********+++++++***********\")\n",
        "print(\"Symbolic for Derivative Evaluation\")\n",
        "for i in range(0, 5):\n",
        "    print(sp.simplify(sp.simplify(sp.diff(babylon(x, i)))))"
      ]
    },
    {
      "cell_type": "markdown",
      "metadata": {
        "id": "uKwkVIwpk9jq"
      },
      "source": [
        "## Dual Numbers"
      ]
    },
    {
      "cell_type": "markdown",
      "metadata": {
        "id": "J_0EylRVk9jq"
      },
      "source": [
        "### Addition rule\n",
        "$$\n",
        "h(x) = f(x) + g(x)\n",
        "$$\n",
        "$$\n",
        "h'(x) = f'(x) + g'(x)\n",
        "$$\n",
        "\n",
        "\n",
        "### Product rule\n",
        "$$\n",
        "h(x) = f(x)*g(x)\n",
        "$$\n",
        "\n",
        "$$\n",
        "h'(x) = f'(x)*g(x) + g'(x)f(x)\n",
        "$$\n",
        "\n",
        "### Quotient rule\n",
        "$$\n",
        "h(x) = \\frac{f(x)}{g(x)}\n",
        "$$\n",
        "$$\n",
        "h'(x) = \\frac{g(x)f'(x) -f(x)g'(x)}{g(x)^2}\n",
        "$$\n",
        "\n",
        "### Chain rule\n",
        "$$\n",
        "f(x) = g(h(x))\n",
        "$$\n",
        "\n",
        "$$\n",
        "f'(x) = g'(h(x))h'(x)\n",
        "$$\n",
        "\n",
        "Consider $f(x) = \\sin(h(x))$\n",
        "$$\n",
        "\\frac{\\rm d}{\\rm dx} \\sin(h(x)) = \\cos(h(x))\\frac{\\rm dh}{\\rm dx}\n",
        "$$"
      ]
    },
    {
      "cell_type": "code",
      "execution_count": null,
      "metadata": {
        "id": "bQIBzlgCk9jr"
      },
      "outputs": [],
      "source": [
        "from math import sin, cos\n",
        "\n",
        "class Dual(object):\n",
        "    def __init__(self, x, ϵ=1):\n",
        "        self.x = x\n",
        "        self.ϵ = ϵ\n",
        "\n",
        "    def __str__(self):\n",
        "        return str(self.x) + \" + \" + str(self.ϵ) + \"ϵ\"\n",
        "\n",
        "    def __mul__(self, d):\n",
        "        return Dual(self.x * d.x, self.x*d.ϵ + d.x*self.ϵ)\n",
        "\n",
        "    def __add__(self, d):\n",
        "        return Dual(self.x + d.x, self.ϵ + d.ϵ)\n",
        "\n",
        "    def __truediv__(self, d):\n",
        "        return Dual(self.x/d.x, ((d.x *self.ϵ - d.ϵ * self.x )/d.x**2))\n",
        "\n",
        "    def d_sin(self):\n",
        "        return Dual(sin(self.x), cos(self.x)*self.ϵ)"
      ]
    },
    {
      "cell_type": "code",
      "execution_count": null,
      "metadata": {
        "id": "TkYzepnxk9jr",
        "outputId": "251d84e9-6437-4492-90af-3e905de8a933"
      },
      "outputs": [
        {
          "name": "stdout",
          "output_type": "stream",
          "text": [
            "3 + 1ϵ\n",
            "9 + 2ϵ\n"
          ]
        }
      ],
      "source": [
        "print(Dual(3))\n",
        "D=Dual(3) + Dual(3) + Dual(3, 0)  ## 2*x + 3\n",
        "print(D)\n",
        "# print(f\"Differentiation of addition is {D}\")\n",
        "\n",
        "# D = Dual(3)*Dual(3)  ## x**2\n",
        "# print(f\"Differentiation of multiplication is {D}\")\n",
        "\n",
        "# D = Dual(6)/Dual(3)  ## x**2\n",
        "# print(f\"Differentiation of division is {D}\")\n",
        "\n",
        "\n",
        "# d = Dual(3)\n",
        "# D = d.d_sin()\n",
        "# print(f\"Differentiation of sin function is {D}\")\n"
      ]
    },
    {
      "cell_type": "markdown",
      "metadata": {
        "id": "-mIMVSSok9js"
      },
      "source": [
        "<div>\n",
        "<img src=\"https://discuss.pytorch.org/uploads/default/original/2X/3/35226d9fbc661ced1c5d17e374638389178c3176.png\" width=\"500\" style=\"margin: 55px auto; display: block; position: relative; left: -30px;\" />\n",
        "</div>\n",
        "\n",
        "<!--NAVIGATION-->\n",
        "# PyTorch Primer | [TensorFlow Primer](2-tf.ipynb) |  [PyTorch vs TensorFlow](3-pytorch_vs_tf.ipynb) |  [JAX](4-jax.ipynb)"
      ]
    },
    {
      "cell_type": "markdown",
      "metadata": {
        "id": "-jl07pm9k9jt"
      },
      "source": [
        "## Submodule -1.4 : A Primer on PyTorch and Tensorflow"
      ]
    },
    {
      "cell_type": "markdown",
      "metadata": {
        "id": "Jrd6DrzKk9jt"
      },
      "source": [
        "## Table of Contents\n",
        "\n",
        "#### 1. [Installation](#Building-PyTorch-and-TensorFlow)\n",
        "#### 2. [Visualizing graph based computation](#Cosntruct-the-Graph-(Tree)-of-following-expressions)\n",
        "#### 3. [Basics of PyTorch](#Basics-of-PyTorch)\n",
        "#### 4. [Automatic Differentiation](#Automatic-Differentiation)\n",
        "#### 5. [Function Approximations](#Function-Approximations)\n"
      ]
    },
    {
      "cell_type": "markdown",
      "metadata": {
        "id": "rqbi-vsdk9jt"
      },
      "source": [
        "# Building PyTorch and TensorFlow"
      ]
    },
    {
      "cell_type": "markdown",
      "metadata": {
        "id": "7PIBjLTTk9jt"
      },
      "source": [
        "### Install PyTorch"
      ]
    },
    {
      "cell_type": "code",
      "execution_count": null,
      "metadata": {
        "id": "0MiWDlvtk9jt"
      },
      "outputs": [],
      "source": [
        "!pip3 install torch torchvision torchaudio"
      ]
    },
    {
      "cell_type": "markdown",
      "metadata": {
        "id": "hN5jnO-hk9jt"
      },
      "source": [
        "### Install TensorFlow2"
      ]
    },
    {
      "cell_type": "code",
      "execution_count": null,
      "metadata": {
        "id": "lJW39yBVk9ju"
      },
      "outputs": [],
      "source": [
        "!pip3 install tensorflow"
      ]
    },
    {
      "cell_type": "markdown",
      "metadata": {
        "id": "n2CIXlj1k9ju"
      },
      "source": [
        "### Packages in current environment"
      ]
    },
    {
      "cell_type": "code",
      "execution_count": null,
      "metadata": {
        "id": "CCN89BVBk9ju"
      },
      "outputs": [],
      "source": [
        "#!pip freeze\n"
      ]
    },
    {
      "cell_type": "code",
      "execution_count": null,
      "metadata": {
        "id": "Q95V_CEgk9ju"
      },
      "outputs": [],
      "source": [
        "#!pip install graphviz\n",
        "#!pip install seaborn\n"
      ]
    },
    {
      "cell_type": "code",
      "execution_count": null,
      "metadata": {
        "id": "zy2L-JqIk9jv"
      },
      "outputs": [],
      "source": [
        "# Import the things we need to plot\n",
        "import matplotlib.pyplot as plt\n",
        "%matplotlib inline\n",
        "import seaborn as sns\n",
        "sns.set_context('talk')"
      ]
    },
    {
      "cell_type": "markdown",
      "metadata": {
        "id": "7d2A0NZqk9jv"
      },
      "source": [
        "## Readings\n",
        "\n",
        "+ These notes.\n",
        "\n",
        "+ [Conceptual Programming with Python By Thorsten Altenkirch and Isaac Triguero](https://www.lulu.com/en/gb/shop/isaac-triguero-and-thorsten-altenkirch/conceptual-programming-with-python/paperback/product-1e4re5rj.html?page=1&pageSize=4)\n"
      ]
    },
    {
      "cell_type": "markdown",
      "metadata": {
        "id": "CZc0uArNk9jv"
      },
      "source": [
        "# Cosntruct the Graph (Tree) of following expressions\n",
        "\n",
        "Evaluate following expressions by designing the premitives\n",
        "$$\n",
        "ex1: 3*(y + x)\n",
        "$$\n",
        "\n",
        "and\n",
        "$$\n",
        "ex2: 3*y + x\n",
        "$$"
      ]
    },
    {
      "cell_type": "markdown",
      "metadata": {
        "id": "l_RJubwik9jv"
      },
      "source": [
        "###### Cosntruct the Graph (Tree) of above expressions"
      ]
    },
    {
      "cell_type": "code",
      "execution_count": null,
      "metadata": {
        "id": "vn8RTIPJk9jv",
        "outputId": "2fb31256-4ce1-4bb4-b3a5-d7227c32a9f7"
      },
      "outputs": [
        {
          "name": "stdout",
          "output_type": "stream",
          "text": [
            "8*(y+x)\n"
          ]
        },
        {
          "data": {
            "image/svg+xml": [
              "<?xml version=\"1.0\" encoding=\"UTF-8\" standalone=\"no\"?>\n",
              "<!DOCTYPE svg PUBLIC \"-//W3C//DTD SVG 1.1//EN\"\n",
              " \"http://www.w3.org/Graphics/SVG/1.1/DTD/svg11.dtd\">\n",
              "<!-- Generated by graphviz version 7.0.1 (20221109.1506)\n",
              " -->\n",
              "<!-- Title: ex1 Pages: 1 -->\n",
              "<svg width=\"170pt\" height=\"188pt\"\n",
              " viewBox=\"0.00 0.00 170.00 188.00\" xmlns=\"http://www.w3.org/2000/svg\" xmlns:xlink=\"http://www.w3.org/1999/xlink\">\n",
              "<g id=\"graph0\" class=\"graph\" transform=\"scale(1 1) rotate(0) translate(4 184)\">\n",
              "<title>ex1</title>\n",
              "<polygon fill=\"white\" stroke=\"none\" points=\"-4,4 -4,-184 166,-184 166,4 -4,4\"/>\n",
              "<!-- * -->\n",
              "<g id=\"node1\" class=\"node\">\n",
              "<title>*</title>\n",
              "<ellipse fill=\"none\" stroke=\"black\" cx=\"99\" cy=\"-162\" rx=\"27\" ry=\"18\"/>\n",
              "<text text-anchor=\"middle\" x=\"99\" y=\"-158.3\" font-family=\"Times,serif\" font-size=\"14.00\">*</text>\n",
              "</g>\n",
              "<!-- + -->\n",
              "<g id=\"node2\" class=\"node\">\n",
              "<title>+</title>\n",
              "<ellipse fill=\"none\" stroke=\"black\" cx=\"63\" cy=\"-90\" rx=\"27\" ry=\"18\"/>\n",
              "<text text-anchor=\"middle\" x=\"63\" y=\"-86.3\" font-family=\"Times,serif\" font-size=\"14.00\">+</text>\n",
              "</g>\n",
              "<!-- *&#45;&gt;+ -->\n",
              "<g id=\"edge2\" class=\"edge\">\n",
              "<title>*&#45;&gt;+</title>\n",
              "<path fill=\"none\" stroke=\"black\" d=\"M90.65,-144.76C86.42,-136.55 81.19,-126.37 76.42,-117.09\"/>\n",
              "<polygon fill=\"black\" stroke=\"black\" points=\"79.68,-115.79 72,-108.49 73.46,-118.99 79.68,-115.79\"/>\n",
              "</g>\n",
              "<!-- 8 -->\n",
              "<g id=\"node3\" class=\"node\">\n",
              "<title>8</title>\n",
              "<ellipse fill=\"none\" stroke=\"black\" cx=\"135\" cy=\"-90\" rx=\"27\" ry=\"18\"/>\n",
              "<text text-anchor=\"middle\" x=\"135\" y=\"-86.3\" font-family=\"Times,serif\" font-size=\"14.00\">8</text>\n",
              "</g>\n",
              "<!-- *&#45;&gt;8 -->\n",
              "<g id=\"edge1\" class=\"edge\">\n",
              "<title>*&#45;&gt;8</title>\n",
              "<path fill=\"none\" stroke=\"black\" d=\"M107.35,-144.76C111.58,-136.55 116.81,-126.37 121.58,-117.09\"/>\n",
              "<polygon fill=\"black\" stroke=\"black\" points=\"124.54,-118.99 126,-108.49 118.32,-115.79 124.54,-118.99\"/>\n",
              "</g>\n",
              "<!-- y -->\n",
              "<g id=\"node4\" class=\"node\">\n",
              "<title>y</title>\n",
              "<ellipse fill=\"none\" stroke=\"black\" cx=\"27\" cy=\"-18\" rx=\"27\" ry=\"18\"/>\n",
              "<text text-anchor=\"middle\" x=\"27\" y=\"-14.3\" font-family=\"Times,serif\" font-size=\"14.00\">y</text>\n",
              "</g>\n",
              "<!-- +&#45;&gt;y -->\n",
              "<g id=\"edge3\" class=\"edge\">\n",
              "<title>+&#45;&gt;y</title>\n",
              "<path fill=\"none\" stroke=\"black\" d=\"M54.65,-72.76C50.42,-64.55 45.19,-54.37 40.42,-45.09\"/>\n",
              "<polygon fill=\"black\" stroke=\"black\" points=\"43.68,-43.79 36,-36.49 37.46,-46.99 43.68,-43.79\"/>\n",
              "</g>\n",
              "<!-- x -->\n",
              "<g id=\"node5\" class=\"node\">\n",
              "<title>x</title>\n",
              "<ellipse fill=\"none\" stroke=\"black\" cx=\"99\" cy=\"-18\" rx=\"27\" ry=\"18\"/>\n",
              "<text text-anchor=\"middle\" x=\"99\" y=\"-14.3\" font-family=\"Times,serif\" font-size=\"14.00\">x</text>\n",
              "</g>\n",
              "<!-- +&#45;&gt;x -->\n",
              "<g id=\"edge4\" class=\"edge\">\n",
              "<title>+&#45;&gt;x</title>\n",
              "<path fill=\"none\" stroke=\"black\" d=\"M71.35,-72.76C75.58,-64.55 80.81,-54.37 85.58,-45.09\"/>\n",
              "<polygon fill=\"black\" stroke=\"black\" points=\"88.54,-46.99 90,-36.49 82.32,-43.79 88.54,-46.99\"/>\n",
              "</g>\n",
              "</g>\n",
              "</svg>\n"
            ],
            "text/plain": [
              "<graphviz.dot.Digraph at 0x7f8880cd1160>"
            ]
          },
          "execution_count": 4,
          "metadata": {},
          "output_type": "execute_result"
        }
      ],
      "source": [
        "print(\"8*(y+x)\")\n",
        "from graphviz import Digraph\n",
        "g1 = Digraph('ex1')\n",
        "g1.node('*', label='*')\n",
        "g1.node('+', label='+')\n",
        "g1.node('8', label='8')\n",
        "g1.node('y', label='y')\n",
        "g1.node('x', label='x')\n",
        "g1.edge('*','8')\n",
        "g1.edge('*','+')\n",
        "g1.edge('+', 'y')\n",
        "g1.edge('+', 'x')\n",
        "g1.render('ex1', format='png') # Uncomment if you want to save the figure\n",
        "g1\n"
      ]
    },
    {
      "cell_type": "code",
      "execution_count": null,
      "metadata": {
        "id": "qePFgiMhk9jw",
        "outputId": "4fc9110b-2e26-4396-ca5b-9d6553b8f275"
      },
      "outputs": [
        {
          "name": "stdout",
          "output_type": "stream",
          "text": [
            "8*y+x\n"
          ]
        },
        {
          "data": {
            "image/svg+xml": [
              "<?xml version=\"1.0\" encoding=\"UTF-8\" standalone=\"no\"?>\n",
              "<!DOCTYPE svg PUBLIC \"-//W3C//DTD SVG 1.1//EN\"\n",
              " \"http://www.w3.org/Graphics/SVG/1.1/DTD/svg11.dtd\">\n",
              "<!-- Generated by graphviz version 7.0.1 (20221109.1506)\n",
              " -->\n",
              "<!-- Title: ex2 Pages: 1 -->\n",
              "<svg width=\"170pt\" height=\"188pt\"\n",
              " viewBox=\"0.00 0.00 170.00 188.00\" xmlns=\"http://www.w3.org/2000/svg\" xmlns:xlink=\"http://www.w3.org/1999/xlink\">\n",
              "<g id=\"graph0\" class=\"graph\" transform=\"scale(1 1) rotate(0) translate(4 184)\">\n",
              "<title>ex2</title>\n",
              "<polygon fill=\"white\" stroke=\"none\" points=\"-4,4 -4,-184 166,-184 166,4 -4,4\"/>\n",
              "<!-- * -->\n",
              "<g id=\"node1\" class=\"node\">\n",
              "<title>*</title>\n",
              "<ellipse fill=\"none\" stroke=\"black\" cx=\"63\" cy=\"-90\" rx=\"27\" ry=\"18\"/>\n",
              "<text text-anchor=\"middle\" x=\"63\" y=\"-86.3\" font-family=\"Times,serif\" font-size=\"14.00\">*</text>\n",
              "</g>\n",
              "<!-- 8 -->\n",
              "<g id=\"node3\" class=\"node\">\n",
              "<title>8</title>\n",
              "<ellipse fill=\"none\" stroke=\"black\" cx=\"27\" cy=\"-18\" rx=\"27\" ry=\"18\"/>\n",
              "<text text-anchor=\"middle\" x=\"27\" y=\"-14.3\" font-family=\"Times,serif\" font-size=\"14.00\">8</text>\n",
              "</g>\n",
              "<!-- *&#45;&gt;8 -->\n",
              "<g id=\"edge3\" class=\"edge\">\n",
              "<title>*&#45;&gt;8</title>\n",
              "<path fill=\"none\" stroke=\"black\" d=\"M54.65,-72.76C50.42,-64.55 45.19,-54.37 40.42,-45.09\"/>\n",
              "<polygon fill=\"black\" stroke=\"black\" points=\"43.68,-43.79 36,-36.49 37.46,-46.99 43.68,-43.79\"/>\n",
              "</g>\n",
              "<!-- y -->\n",
              "<g id=\"node4\" class=\"node\">\n",
              "<title>y</title>\n",
              "<ellipse fill=\"none\" stroke=\"black\" cx=\"99\" cy=\"-18\" rx=\"27\" ry=\"18\"/>\n",
              "<text text-anchor=\"middle\" x=\"99\" y=\"-14.3\" font-family=\"Times,serif\" font-size=\"14.00\">y</text>\n",
              "</g>\n",
              "<!-- *&#45;&gt;y -->\n",
              "<g id=\"edge4\" class=\"edge\">\n",
              "<title>*&#45;&gt;y</title>\n",
              "<path fill=\"none\" stroke=\"black\" d=\"M71.35,-72.76C75.58,-64.55 80.81,-54.37 85.58,-45.09\"/>\n",
              "<polygon fill=\"black\" stroke=\"black\" points=\"88.54,-46.99 90,-36.49 82.32,-43.79 88.54,-46.99\"/>\n",
              "</g>\n",
              "<!-- + -->\n",
              "<g id=\"node2\" class=\"node\">\n",
              "<title>+</title>\n",
              "<ellipse fill=\"none\" stroke=\"black\" cx=\"99\" cy=\"-162\" rx=\"27\" ry=\"18\"/>\n",
              "<text text-anchor=\"middle\" x=\"99\" y=\"-158.3\" font-family=\"Times,serif\" font-size=\"14.00\">+</text>\n",
              "</g>\n",
              "<!-- +&#45;&gt;* -->\n",
              "<g id=\"edge1\" class=\"edge\">\n",
              "<title>+&#45;&gt;*</title>\n",
              "<path fill=\"none\" stroke=\"black\" d=\"M90.65,-144.76C86.42,-136.55 81.19,-126.37 76.42,-117.09\"/>\n",
              "<polygon fill=\"black\" stroke=\"black\" points=\"79.68,-115.79 72,-108.49 73.46,-118.99 79.68,-115.79\"/>\n",
              "</g>\n",
              "<!-- x -->\n",
              "<g id=\"node5\" class=\"node\">\n",
              "<title>x</title>\n",
              "<ellipse fill=\"none\" stroke=\"black\" cx=\"135\" cy=\"-90\" rx=\"27\" ry=\"18\"/>\n",
              "<text text-anchor=\"middle\" x=\"135\" y=\"-86.3\" font-family=\"Times,serif\" font-size=\"14.00\">x</text>\n",
              "</g>\n",
              "<!-- +&#45;&gt;x -->\n",
              "<g id=\"edge2\" class=\"edge\">\n",
              "<title>+&#45;&gt;x</title>\n",
              "<path fill=\"none\" stroke=\"black\" d=\"M107.35,-144.76C111.58,-136.55 116.81,-126.37 121.58,-117.09\"/>\n",
              "<polygon fill=\"black\" stroke=\"black\" points=\"124.54,-118.99 126,-108.49 118.32,-115.79 124.54,-118.99\"/>\n",
              "</g>\n",
              "</g>\n",
              "</svg>\n"
            ],
            "text/plain": [
              "<graphviz.dot.Digraph at 0x7f8880cd9160>"
            ]
          },
          "execution_count": 5,
          "metadata": {},
          "output_type": "execute_result"
        }
      ],
      "source": [
        "print(\"8*y+x\")\n",
        "g2 = Digraph('ex2')\n",
        "g2.node('*', label='*')\n",
        "g2.node('+', label='+')\n",
        "g2.node('8', label='8')\n",
        "g2.node('y', label='y')\n",
        "g2.node('x', label='x')\n",
        "g2.edge('+','*')\n",
        "g2.edge('+','x')\n",
        "g2.edge('*', '8')\n",
        "g2.edge('*', 'y')\n",
        "g2.render('ex2', format='png') # Uncomment if you want to save the figure\n",
        "g2"
      ]
    },
    {
      "cell_type": "code",
      "execution_count": null,
      "metadata": {
        "id": "lHLXH8VIk9jw",
        "outputId": "20b8ba8e-5136-4b41-feca-0e885ae40077"
      },
      "outputs": [
        {
          "name": "stdout",
          "output_type": "stream",
          "text": [
            "5.0\n"
          ]
        }
      ],
      "source": [
        "print(5.0)"
      ]
    },
    {
      "cell_type": "code",
      "execution_count": null,
      "metadata": {
        "id": "O07MSAbek9jw",
        "outputId": "df6cd23a-8b65-4594-80fd-cfef9fefa5fa"
      },
      "outputs": [
        {
          "name": "stdout",
          "output_type": "stream",
          "text": [
            "(8*(y+x))\n",
            "((8*y)+x)\n"
          ]
        }
      ],
      "source": [
        "# Super class for Expressions:\n",
        "\n",
        "class Expr:\n",
        "    pass\n",
        "\n",
        "### Subclass of Expr for Constant e.g., 3\n",
        "\n",
        "class Const(Expr):\n",
        "    def __init__(self, val):\n",
        "        self.val = val\n",
        "\n",
        "    def getVal(self):\n",
        "        return self.val\n",
        "\n",
        "    def __str__(self):\n",
        "        return str(self.getVal())\n",
        "\n",
        "    def eval(self, env):\n",
        "        return self.getVal()\n",
        "\n",
        "### Subclass of Expr for Variables e.g., x, y\n",
        "class Var(Expr):\n",
        "    def __init__(self, name):\n",
        "        self.name = name\n",
        "\n",
        "    def getName(self):\n",
        "        return self.name\n",
        "\n",
        "    def __str__(self):\n",
        "        return self.getName()\n",
        "\n",
        "    def eval(self, env):\n",
        "        return env[self.name]\n",
        "\n",
        "### Subclass of Expr for Binary Operations: e.g., x, y\n",
        "class Times(Expr):\n",
        "    def __init__(self, l, r):\n",
        "        self.l = l\n",
        "        self.r = r\n",
        "\n",
        "    def getLeft(self):\n",
        "        return self.l\n",
        "\n",
        "    def getRight(self):\n",
        "        return self.r\n",
        "\n",
        "    def __str__(self):\n",
        "        return \"(\" + str(self.getLeft()) + \"*\" + str(self.getRight()) + \")\"\n",
        "\n",
        "    def eval(self, env):\n",
        "        return self.getLeft().eval(env)*self.getRight().eval(env)\n",
        "\n",
        "class Plus(Expr):\n",
        "    def __init__(self, l, r):\n",
        "        self.l = l\n",
        "        self.r = r\n",
        "    def __str__(self):\n",
        "        return \"(\" + str(self.l) + \"+\" + str(self.r) + \")\"\n",
        "\n",
        "    def getLeft(self):\n",
        "        return self.l\n",
        "\n",
        "    def getRight(self):\n",
        "        return self.r\n",
        "\n",
        "    def eval(self, env):\n",
        "        print(f\"Printing Eval {env}\")\n",
        "        return self.getLeft().eval(env) + self.getRight().eval(env)\n",
        "\n",
        "### Let's print ex1: 8*(y + x)\n",
        "\n",
        "ex1 = Times(Const(8), Plus(Var(\"y\"),Var(\"x\")))\n",
        "\n",
        "### Let's print ex1: 3*y + x\n",
        "ex2 = Plus(Times(Const(8), Var(\"y\")), Var(\"x\"))\n",
        "\n",
        "print(ex1)\n",
        "print(ex2)"
      ]
    },
    {
      "cell_type": "code",
      "execution_count": null,
      "metadata": {
        "id": "wd4mTzkHk9jw",
        "outputId": "36f450c3-8c63-4668-e5f5-fe3b53f485e2"
      },
      "outputs": [
        {
          "name": "stdout",
          "output_type": "stream",
          "text": [
            "Printing Eval {'x': 5, 'y': 10}\n"
          ]
        },
        {
          "data": {
            "text/plain": [
              "120"
            ]
          },
          "execution_count": 10,
          "metadata": {},
          "output_type": "execute_result"
        }
      ],
      "source": [
        "# Evaluate The Expressions\n",
        "vals = {\"x\":5, \"y\":10}\n",
        "ex1.eval(vals)\n"
      ]
    },
    {
      "cell_type": "markdown",
      "metadata": {
        "id": "4IZV4Olvk9jx"
      },
      "source": [
        "# Basics of PyTorch"
      ]
    },
    {
      "cell_type": "markdown",
      "metadata": {
        "id": "3pDIlRYKk9jx"
      },
      "source": [
        "#### Tensors and Properties"
      ]
    },
    {
      "cell_type": "code",
      "execution_count": null,
      "metadata": {
        "id": "CzKg8fx9k9jx"
      },
      "outputs": [],
      "source": [
        "import torch"
      ]
    },
    {
      "cell_type": "code",
      "execution_count": null,
      "metadata": {
        "id": "tg4eRDV-k9jx"
      },
      "outputs": [],
      "source": [
        "import numpy as np"
      ]
    },
    {
      "cell_type": "code",
      "execution_count": null,
      "metadata": {
        "id": "G1e2jMbNk9jx",
        "outputId": "8fa1ce9d-6700-415e-d692-3dc62d28fe6a"
      },
      "outputs": [
        {
          "data": {
            "text/plain": [
              "array([[0.5488135 , 0.71518937, 0.60276338],\n",
              "       [0.54488318, 0.4236548 , 0.64589411],\n",
              "       [0.43758721, 0.891773  , 0.96366276]])"
            ]
          },
          "execution_count": 14,
          "metadata": {},
          "output_type": "execute_result"
        }
      ],
      "source": [
        "# Set seed for reproducibility\n",
        "np.random.seed(0)\n",
        "\n",
        "\n",
        "# Predefine Matrix of shape=(2,3)\n",
        "np.array([[4, 5, 6], [1, 7, 8]])\n",
        "\n",
        "# Zero Matrix of shape=(3,3)\n",
        "np.zeros((3,3))\n",
        "\n",
        "# Identity Matrix of shape=(2,2)\n",
        "np.eye(2)\n",
        "\n",
        "# Random Matrix of shape=(3,3)\n",
        "np.random.rand(3,3)"
      ]
    },
    {
      "cell_type": "code",
      "execution_count": null,
      "metadata": {
        "id": "OktnRN69k9jx",
        "outputId": "1d073ea0-46bd-4da9-8ce7-7a0d525143b2"
      },
      "outputs": [
        {
          "data": {
            "text/plain": [
              "tensor([[0.4963, 0.7682, 0.0885],\n",
              "        [0.1320, 0.3074, 0.6341],\n",
              "        [0.4901, 0.8964, 0.4556]])"
            ]
          },
          "execution_count": 15,
          "metadata": {},
          "output_type": "execute_result"
        }
      ],
      "source": [
        "# Set seed for reproducibility\n",
        "torch.manual_seed(0)\n",
        "\n",
        "\n",
        "# Predefine Matrix of shape=(2,3)\n",
        "torch.tensor([[4, 5, 6], [1, 7, 8]])\n",
        "\n",
        "# Zero Matrix of shape=(3,3)\n",
        "torch.zeros((3,3))\n",
        "\n",
        "# Identity Matrix of shape=(2,2)\n",
        "torch.eye(2)\n",
        "\n",
        "# Random Matrix of shape=(3,3)\n",
        "torch.rand(3,3)"
      ]
    },
    {
      "cell_type": "code",
      "execution_count": null,
      "metadata": {
        "id": "23TVgOI-k9jy",
        "outputId": "9259f217-3811-4f42-f516-c356e8e22dc3"
      },
      "outputs": [
        {
          "name": "stdout",
          "output_type": "stream",
          "text": [
            "Sclaer x: 1.0\n",
            "Dimension of vector is: 0\n",
            "Vector v: tensor([1., 2., 3.])\n",
            "Dimension of vector is: 1\n",
            "Dimension of matrix is: 2\n",
            "Dimension of Tensor is: 3\n"
          ]
        }
      ],
      "source": [
        "##### Dimension operations on Tensors.\n",
        "\n",
        "# Scalar\n",
        "s = torch.tensor(1.)\n",
        "print(f\"Sclaer x: {s}\")\n",
        "\n",
        "# Check dimension of Scalar\n",
        "d = s.dim()\n",
        "print(f\"Dimension of vector is: {d}\")\n",
        "\n",
        "# Vectors\n",
        "v = torch.tensor([1., 2., 3.])\n",
        "print(f\"Vector v: {v}\")\n",
        "#Check dimension of Vectors\n",
        "d = v.dim()\n",
        "print(f\"Dimension of vector is: {d}\")\n",
        "\n",
        "\n",
        "# Matrix\n",
        "m = torch.tensor([[1., 2., 3.],[4., 5., 6.]])\n",
        "d = m.dim()\n",
        "print(f\"Dimension of matrix is: {d}\")\n",
        "\n",
        "\n",
        "# Tensor\n",
        "# Matrix\n",
        "m = torch.tensor([[[1., 2., 3.],[4., 5., 6.], [1., 2., 3.],[4., 5., 6.]]])\n",
        "d = m.dim()\n",
        "print(f\"Dimension of Tensor is: {d}\")\n",
        "\n",
        "\n"
      ]
    },
    {
      "cell_type": "markdown",
      "metadata": {
        "id": "-DfcQI5Uk9jy"
      },
      "source": [
        "#### Methods on Tensors"
      ]
    },
    {
      "cell_type": "markdown",
      "metadata": {
        "id": "V-pltYbmk9jy"
      },
      "source": [
        "###### Sum"
      ]
    },
    {
      "cell_type": "code",
      "execution_count": null,
      "metadata": {
        "id": "AnxFskSpk9jy",
        "outputId": "b41e7526-00b6-4c65-ce1c-730cd0b4e15c"
      },
      "outputs": [
        {
          "name": "stdout",
          "output_type": "stream",
          "text": [
            "x: tensor([[0.4963, 0.7682],\n",
            "        [0.0885, 0.1320],\n",
            "        [0.3074, 0.6341]])\n",
            "xsum using mthod1: tensor([1.2645, 0.2205, 0.9415])\n",
            "xsum using mthod2: tensor([1.2645, 0.2205, 0.9415])\n"
          ]
        }
      ],
      "source": [
        "# Set seed for reproducibility\n",
        "torch.manual_seed(0)\n",
        "\n",
        "\n",
        "# Random Matrix of shape=(3,3)\n",
        "x = torch.rand(3,2)\n",
        "print(f\"x: {x}\")\n",
        "\n",
        "xsum = torch.sum(x, dim=1)\n",
        "print(f\"xsum using mthod1: {xsum}\")\n",
        "\n",
        "x.sum(dim=1)\n",
        "print(f\"xsum using mthod2: {xsum}\")\n",
        "\n"
      ]
    },
    {
      "cell_type": "markdown",
      "metadata": {
        "id": "Yg96MYoqk9jy"
      },
      "source": [
        "###### Reshape : `view` and  `reshape`  methods"
      ]
    },
    {
      "cell_type": "code",
      "execution_count": null,
      "metadata": {
        "id": "DbKeB0Awk9jz"
      },
      "outputs": [],
      "source": [
        "#### Inplace Reshaping\n",
        "\n",
        "# A vector of length N=10\n",
        "x = torch.tensor([1,2,3,4,5,6,7,8,9,10, 11, 12])\n",
        "# Reshape in amatrix of shape= (2,5)\n",
        "x.view(3,4)\n",
        "\n",
        "# Reshape with unspecified number of rows and 4 column\n",
        "x.view(-1, 4)\n",
        "\n",
        "#### Reshaping via copying\n",
        "\n",
        "# A vector of length N=10\n",
        "x = torch.tensor([1,2,3,4,5,6,7,8,9,10,11,12])\n",
        "\n",
        "# Reshape in amatrix of shape= (2,5)\n",
        "y3 = x.reshape(3,4)\n",
        "\n",
        "# Reshape with unspecified number of rows and 4 column\n",
        "y4 = x.reshape(-1,4)"
      ]
    },
    {
      "cell_type": "markdown",
      "metadata": {
        "id": "PywtqVqmk9jz"
      },
      "source": [
        "###### Computing Norm of a vector using `norm` method\n",
        "\n",
        "$$\n",
        "L_p~\\text{norm}:\n",
        "||{\\mathbf{x}}||_p = \\left(\\sum_i |x_i|^p\\right)^{\\frac{1}{p}}\n",
        "$$\n",
        "\n",
        "\n",
        "$$\n",
        "L^1~\\text{norm}:\n",
        "|| {\\mathbf{x}} ||_1 = |x_1| + |x_2| + \\ldots + |x_n|\n",
        "$$\n",
        "\n",
        "$$\n",
        "L^2~\\text{norm}:\n",
        "|| {\\mathbf{x}} ||_2 = \\sqrt{x_1^2 + x_2^2 + \\ldots + x_n^2}\n",
        "$$\n",
        "\n"
      ]
    },
    {
      "cell_type": "code",
      "execution_count": null,
      "metadata": {
        "id": "Ep-F9bC1k9jz",
        "outputId": "56aed8e0-36c4-49f5-8d2e-7940f8e74f15"
      },
      "outputs": [
        {
          "name": "stdout",
          "output_type": "stream",
          "text": [
            "L1 Norm of x is:1.3529558181762695\n",
            "L2 Norm of x is:0.9188381433486938\n"
          ]
        }
      ],
      "source": [
        "torch.manual_seed(0)\n",
        "x = torch.rand(3)\n",
        "x.norm(p=1)\n",
        "x.norm(p=2)\n",
        "print(f\"L1 Norm of x is:{x.norm(p=1)}\")\n",
        "print(f\"L2 Norm of x is:{x.norm(p=2)}\")"
      ]
    },
    {
      "cell_type": "markdown",
      "metadata": {
        "id": "Ws9t_CwIk9jz"
      },
      "source": [
        "###### Computing Norm of a vector without using the method"
      ]
    },
    {
      "cell_type": "code",
      "execution_count": null,
      "metadata": {
        "id": "w8oYElkdk9jz",
        "outputId": "7a0ba4e7-1f59-4268-f53b-9a3981799c8f"
      },
      "outputs": [
        {
          "name": "stdout",
          "output_type": "stream",
          "text": [
            "L1 norm: is: 1.3529558181762695\n",
            "L2 norm: is: 0.9188381433486938\n",
            "L1 norm: is: 1.3529558181762695\n",
            "L2 norm: is: 0.9188381433486938\n"
          ]
        }
      ],
      "source": [
        "n1 = torch.sum(torch.abs(x))\n",
        "print(f\"L1 norm: is: {n1}\")\n",
        "n2 = torch.sqrt(torch.sum(x**2))\n",
        "print(f\"L2 norm: is: {n2}\")\n",
        "\n",
        "## Or Calling method directly on the data structures\n",
        "n1 = x.abs().sum()\n",
        "print(f\"L1 norm: is: {n1}\")\n",
        "n2 = (x**2).sum().sqrt()\n",
        "print(f\"L2 norm: is: {n2}\")"
      ]
    },
    {
      "cell_type": "markdown",
      "metadata": {
        "id": "gJJKvlzBk9j0"
      },
      "source": [
        "### Tensors on GPU"
      ]
    },
    {
      "cell_type": "code",
      "execution_count": null,
      "metadata": {
        "id": "cydhNYtAk9j0",
        "outputId": "b47ae137-5151-477a-d3ed-e261efab818a"
      },
      "outputs": [
        {
          "data": {
            "text/plain": [
              "False"
            ]
          },
          "execution_count": 19,
          "metadata": {},
          "output_type": "execute_result"
        }
      ],
      "source": [
        "import torch\n",
        "torch.cuda.is_available()  # Check if we can use GPUs"
      ]
    },
    {
      "cell_type": "code",
      "execution_count": null,
      "metadata": {
        "id": "QREt3Suhk9j0"
      },
      "outputs": [],
      "source": [
        "x = torch.Tensor([[4,5,8], [3,8,9]])"
      ]
    },
    {
      "cell_type": "markdown",
      "metadata": {
        "id": "ied3voTyk9j0"
      },
      "source": [
        "### Mapping tensors to GPU"
      ]
    },
    {
      "cell_type": "code",
      "execution_count": null,
      "metadata": {
        "id": "VL-w7BALk9j0",
        "outputId": "5f1baa7e-2a15-49aa-9038-9d33e496d520"
      },
      "outputs": [
        {
          "data": {
            "text/plain": [
              "tensor([[4., 5., 8.],\n",
              "        [3., 8., 9.]])"
            ]
          },
          "execution_count": 21,
          "metadata": {},
          "output_type": "execute_result"
        }
      ],
      "source": [
        "dev_cpu = torch.device(\"cpu\")\n",
        "dev_gpu = torch.device(\"cuda:0\")\n",
        "\n",
        "# Send Tensor to GPU\n",
        "x.to(dev_cpu)\n"
      ]
    },
    {
      "cell_type": "code",
      "execution_count": null,
      "metadata": {
        "id": "6gDo970Rk9j1",
        "outputId": "e76c170d-6a13-4a3e-c5f2-c36273390e91"
      },
      "outputs": [
        {
          "data": {
            "text/plain": [
              "tensor([[4., 5., 8.],\n",
              "        [3., 8., 9.]])"
            ]
          },
          "execution_count": 22,
          "metadata": {},
          "output_type": "execute_result"
        }
      ],
      "source": [
        "# At the start of your code\n",
        "device = torch.device(\"cpu\" if not torch.cuda.is_available() else \"cuda\")\n",
        "\n",
        "# For later dispatch\n",
        "x.to(device)"
      ]
    },
    {
      "cell_type": "markdown",
      "metadata": {
        "id": "OnOD_lMok9j1"
      },
      "source": [
        "### NumPy ----> PyTorch ----> NumPy"
      ]
    },
    {
      "cell_type": "code",
      "execution_count": null,
      "metadata": {
        "id": "Y76w7-Osk9j1",
        "outputId": "15452360-31a4-449c-90a4-a38e188d62d3"
      },
      "outputs": [
        {
          "name": "stdout",
          "output_type": "stream",
          "text": [
            "[[0.38344152 0.79172504 0.52889492 0.56804456]\n",
            " [0.92559664 0.07103606 0.0871293  0.0202184 ]\n",
            " [0.83261985 0.77815675 0.87001215 0.97861834]\n",
            " [0.79915856 0.46147936 0.78052918 0.11827443]]\n"
          ]
        }
      ],
      "source": [
        "import numpy as np\n",
        "\n",
        "x = np.random.random((4,4))\n",
        "print(x)"
      ]
    },
    {
      "cell_type": "code",
      "execution_count": null,
      "metadata": {
        "id": "DE-Nh_pfk9j1",
        "outputId": "334e994f-a24c-48c8-bea2-9b927098fe7d"
      },
      "outputs": [
        {
          "name": "stdout",
          "output_type": "stream",
          "text": [
            "tensor([[0.3834, 0.7917, 0.5289, 0.5680],\n",
            "        [0.9256, 0.0710, 0.0871, 0.0202],\n",
            "        [0.8326, 0.7782, 0.8700, 0.9786],\n",
            "        [0.7992, 0.4615, 0.7805, 0.1183]], dtype=torch.float64)\n"
          ]
        }
      ],
      "source": [
        "# NumPy to PyTorch\n",
        "Y = torch.from_numpy(x)\n",
        "print(Y)"
      ]
    },
    {
      "cell_type": "code",
      "execution_count": null,
      "metadata": {
        "id": "Duu0RPRJk9j1"
      },
      "outputs": [],
      "source": [
        "# PyTorch ---> NumPy"
      ]
    },
    {
      "cell_type": "code",
      "execution_count": null,
      "metadata": {
        "id": "Pq4kauQek9j2"
      },
      "outputs": [],
      "source": [
        "X = Y.numpy()\n",
        "#print(X)"
      ]
    },
    {
      "cell_type": "markdown",
      "metadata": {
        "id": "uq2P3CvHk9j2"
      },
      "source": [
        "### Timing GPU Operations"
      ]
    },
    {
      "cell_type": "code",
      "execution_count": null,
      "metadata": {
        "id": "xXmY3pxKk9j2",
        "outputId": "5efa25a8-597d-4252-b541-79d818640178"
      },
      "outputs": [
        {
          "data": {
            "text/plain": [
              "torch.Size([100, 400, 400])"
            ]
          },
          "execution_count": 20,
          "metadata": {},
          "output_type": "execute_result"
        }
      ],
      "source": [
        "A = torch.rand(100, 400, 400)\n",
        "#B = A.cuda()\n",
        "A.size()"
      ]
    },
    {
      "cell_type": "code",
      "execution_count": null,
      "metadata": {
        "id": "9_spVE4sk9j2",
        "outputId": "d6b5b5cf-88ab-4fdb-c5df-7e4f66726f3a"
      },
      "outputs": [
        {
          "name": "stdout",
          "output_type": "stream",
          "text": [
            "27.2 ms ± 5.42 ms per loop (mean ± std. dev. of 7 runs, 3 loops each)\n"
          ]
        }
      ],
      "source": [
        "%timeit -n 3 torch.bmm(A, A)\n",
        "#%timeit -n 3 torch.bmm(B, B)"
      ]
    },
    {
      "cell_type": "markdown",
      "metadata": {
        "id": "Du138xW9k9j2"
      },
      "source": [
        "\n",
        "$$\n",
        "a = 8\\\\\n",
        "b = 6\\\\\n",
        "c = a + b\\\\\n",
        "d = a * c\\\\\n",
        "$$\n",
        "Compute $ \\frac{\\partial d}{\\partial a}$\n",
        "High School Approach:\n",
        "\n",
        "1. $\\qquad d = a*c$\n",
        "\n",
        "2. $\\qquad  \\frac{\\partial d}{\\partial a} = c * \\frac{\\partial a}{\\partial a} + a * \\frac{\\partial c}{\\partial a}$\n",
        "\n",
        "3. $\\qquad  \\frac{\\partial d}{\\partial a} = c + a* \\frac{\\partial c}{\\partial a}$\n",
        "4. $\\qquad  \\frac{\\partial d}{\\partial a} = (a + b) + a*\\frac{\\partial a}{\\partial a} + a * \\frac{\\partial b}{\\partial a} $\n",
        "5. $\\qquad  \\frac{\\partial d}{\\partial a} = a + b + a*(1 + 0)$\n",
        "6. $\\qquad  \\frac{\\partial d}{\\partial a} = 2a + b $\n",
        "7. $\\qquad  \\frac{\\partial d}{\\partial a} = 2*8+ 6 = 22 $\n",
        "\n",
        "In case if you need to $\\frac{\\partial d}{\\partial b}$, steps 1-7 need to carried out again.\n",
        "\""
      ]
    },
    {
      "cell_type": "markdown",
      "metadata": {
        "id": "OeysSqOpk9j2"
      },
      "source": [
        "# Automatic Differentiation"
      ]
    },
    {
      "cell_type": "code",
      "execution_count": null,
      "metadata": {
        "id": "llnE2Ucrk9j2"
      },
      "outputs": [],
      "source": [
        "from collections import defaultdict\n",
        "class Var:\n",
        "    def __init__(self, val, local_grad=()):\n",
        "        self.val = val\n",
        "        self.local_grad = local_grad\n",
        "\n",
        "    def __add__(self, other):\n",
        "        y = self.val + other.val\n",
        "        local_grad = ((self, 1), (other, 1))\n",
        "        return Var(y, local_grad)\n",
        "\n",
        "    def __mul__(self, other):\n",
        "        y = self.val*other.val\n",
        "        local_grad = ((self, other.val), (other, self.val))\n",
        "        return Var(y, local_grad)\n",
        "\n",
        "    def __sub__(self, other):\n",
        "        y = self.val - other.val\n",
        "        local_grad = ((self, 1), (other, -1))\n",
        "        return Var(y, local_grad)\n",
        "\n",
        "\n",
        "def get_grads(var):\n",
        "    grad = defaultdict(lambda:0)\n",
        "\n",
        "    def compute_grad(var, path):\n",
        "        for child_var, loc_grad in var.local_grad:\n",
        "            val_path_child = path * loc_grad\n",
        "            grad[child_var] += val_path_child\n",
        "            compute_grad(child_var,val_path_child)\n",
        "\n",
        "    compute_grad(var, path=1)\n",
        "\n",
        "    return grad\n",
        "\n",
        "\n",
        "\n",
        "\n",
        "\n",
        "\n",
        ""
      ]
    },
    {
      "cell_type": "code",
      "execution_count": null,
      "metadata": {
        "id": "l1FMqa-Kk9j2",
        "outputId": "a12572be-73c6-4cd5-aa5b-34d1dac5731a"
      },
      "outputs": [
        {
          "name": "stdout",
          "output_type": "stream",
          "text": [
            "AD of addition: 22\n",
            "AD of subtraction: 10\n"
          ]
        }
      ],
      "source": [
        "a = Var(8)\n",
        "b = Var(6)\n",
        "\n",
        "## AD for Addition\n",
        "\n",
        "c = a + b\n",
        "d = a*c\n",
        "\n",
        "grad = get_grads(d)\n",
        "\n",
        "print(f\"AD of addition: {grad[a]}\")\n",
        "\n",
        "## AD for Subtraction\n",
        "\n",
        "c = a - b\n",
        "d = a*c\n",
        "\n",
        "grad = get_grads(d)\n",
        "\n",
        "print(f\"AD of subtraction: {grad[a]}\")\n",
        "\n"
      ]
    },
    {
      "cell_type": "markdown",
      "metadata": {
        "id": "sbf-PA9Yk9j2"
      },
      "source": [
        "# Einstein Summation"
      ]
    },
    {
      "cell_type": "code",
      "execution_count": null,
      "metadata": {
        "scrolled": true,
        "id": "S-aonWo3k9j3",
        "outputId": "93e0562f-bad1-4ccc-e830-118dd8f9f245"
      },
      "outputs": [
        {
          "data": {
            "text/plain": [
              "<torch._C.Generator at 0x7f82814290b0>"
            ]
          },
          "execution_count": 2,
          "metadata": {},
          "output_type": "execute_result"
        }
      ],
      "source": [
        "import torch\n",
        "torch.manual_seed(1234)"
      ]
    },
    {
      "cell_type": "code",
      "execution_count": null,
      "metadata": {
        "id": "9FJIiiAsk9j3",
        "outputId": "f9002930-e6ac-4a29-e7e1-4873ebc083be"
      },
      "outputs": [
        {
          "data": {
            "text/plain": [
              "tensor([[9, 7, 3, 8],\n",
              "        [3, 4, 9, 7],\n",
              "        [3, 5, 5, 6]])"
            ]
          },
          "execution_count": 3,
          "metadata": {},
          "output_type": "execute_result"
        }
      ],
      "source": [
        "A=torch.randint(3, 10, (3, 4))\n",
        "B=torch.randint(3, 10, (4, 3))\n",
        "A\n",
        "\n"
      ]
    },
    {
      "cell_type": "code",
      "execution_count": null,
      "metadata": {
        "id": "_klGAhdkk9j3",
        "outputId": "fa3f06c4-f95c-49ef-8169-d74133223e82"
      },
      "outputs": [
        {
          "data": {
            "text/plain": [
              "tensor([[4, 8, 3],\n",
              "        [6, 7, 4],\n",
              "        [9, 8, 6],\n",
              "        [4, 5, 8]])"
            ]
          },
          "execution_count": 4,
          "metadata": {},
          "output_type": "execute_result"
        }
      ],
      "source": [
        "B\n"
      ]
    },
    {
      "cell_type": "code",
      "execution_count": null,
      "metadata": {
        "id": "lhBtd_EOk9j3",
        "outputId": "580305c8-03ce-474e-f683-5295fdf244f0"
      },
      "outputs": [
        {
          "data": {
            "text/plain": [
              "tensor([[137, 185, 137],\n",
              "        [145, 159, 135],\n",
              "        [111, 129, 107]])"
            ]
          },
          "execution_count": 32,
          "metadata": {},
          "output_type": "execute_result"
        }
      ],
      "source": [
        "torch.matmul(A, B)"
      ]
    },
    {
      "cell_type": "code",
      "execution_count": null,
      "metadata": {
        "id": "JPcekDkBk9j3",
        "outputId": "73361d31-716e-4253-8015-535d3cb348a3"
      },
      "outputs": [
        {
          "data": {
            "text/plain": [
              "tensor([[137, 185, 137],\n",
              "        [145, 159, 135],\n",
              "        [111, 129, 107]])"
            ]
          },
          "execution_count": 36,
          "metadata": {},
          "output_type": "execute_result"
        }
      ],
      "source": [
        "C= torch.einsum(\"ij, jk -> ik\", A, B)\n",
        "C"
      ]
    },
    {
      "cell_type": "code",
      "execution_count": null,
      "metadata": {
        "id": "foiGPdpDk9j3",
        "outputId": "74c4bbcc-3306-439f-e3bb-440392ecf0f5"
      },
      "outputs": [
        {
          "data": {
            "text/plain": [
              "tensor([[[9, 7, 3],\n",
              "         [8, 3, 4],\n",
              "         [9, 7, 3],\n",
              "         [5, 5, 6]],\n",
              "\n",
              "        [[4, 8, 3],\n",
              "         [6, 7, 4],\n",
              "         [9, 8, 6],\n",
              "         [4, 5, 8]],\n",
              "\n",
              "        [[7, 8, 8],\n",
              "         [9, 6, 4],\n",
              "         [7, 4, 5],\n",
              "         [7, 7, 6]]])"
            ]
          },
          "execution_count": 5,
          "metadata": {},
          "output_type": "execute_result"
        }
      ],
      "source": [
        "torch.manual_seed(1234)\n",
        "A=torch.randint(3, 10, (3, 4, 3))\n",
        "B=torch.randint(3, 10, (3, 3, 4))\n",
        "A\n",
        "\n"
      ]
    },
    {
      "cell_type": "code",
      "execution_count": null,
      "metadata": {
        "id": "tylFUy2xk9j4",
        "outputId": "b8314887-12e3-467d-ec48-924016717433"
      },
      "outputs": [
        {
          "data": {
            "text/plain": [
              "tensor([[[7, 5, 4, 4],\n",
              "         [5, 6, 4, 6],\n",
              "         [3, 7, 3, 8]],\n",
              "\n",
              "        [[8, 6, 8, 6],\n",
              "         [7, 9, 8, 4],\n",
              "         [8, 4, 8, 5]],\n",
              "\n",
              "        [[5, 9, 7, 4],\n",
              "         [5, 5, 7, 3],\n",
              "         [8, 7, 3, 7]]])"
            ]
          },
          "execution_count": 38,
          "metadata": {},
          "output_type": "execute_result"
        }
      ],
      "source": [
        "B"
      ]
    },
    {
      "cell_type": "code",
      "execution_count": null,
      "metadata": {
        "id": "pN3Lpw3Ck9j4",
        "outputId": "3da35e2f-6967-4969-8d6a-c457ad0951ed"
      },
      "outputs": [
        {
          "data": {
            "text/plain": [
              "tensor([[[107, 108,  73, 102],\n",
              "         [ 83,  86,  56,  82],\n",
              "         [107, 108,  73, 102],\n",
              "         [ 78,  97,  58,  98]],\n",
              "\n",
              "        [[112, 108, 120,  71],\n",
              "         [129, 115, 136,  84],\n",
              "         [176, 150, 184, 116],\n",
              "         [131, 101, 136,  84]],\n",
              "\n",
              "        [[139, 159, 129, 108],\n",
              "         [107, 139, 117,  82],\n",
              "         [ 95, 118,  92,  75],\n",
              "         [118, 140, 116,  91]]])"
            ]
          },
          "execution_count": 39,
          "metadata": {},
          "output_type": "execute_result"
        }
      ],
      "source": [
        "C = torch.einsum(\"bij, bjk->bik\", A,B)\n",
        "C"
      ]
    },
    {
      "cell_type": "code",
      "execution_count": null,
      "metadata": {
        "id": "MLlrTo16k9j4"
      },
      "outputs": [],
      "source": [
        "Ct = torch.matmul(A, B)"
      ]
    },
    {
      "cell_type": "code",
      "execution_count": null,
      "metadata": {
        "id": "pGBIEkyYk9j4",
        "outputId": "11b236fe-7fb0-4ebb-8c69-b9d91b84184f"
      },
      "outputs": [
        {
          "data": {
            "text/plain": [
              "tensor([[[107, 108,  73, 102],\n",
              "         [ 83,  86,  56,  82],\n",
              "         [107, 108,  73, 102],\n",
              "         [ 78,  97,  58,  98]],\n",
              "\n",
              "        [[112, 108, 120,  71],\n",
              "         [129, 115, 136,  84],\n",
              "         [176, 150, 184, 116],\n",
              "         [131, 101, 136,  84]],\n",
              "\n",
              "        [[139, 159, 129, 108],\n",
              "         [107, 139, 117,  82],\n",
              "         [ 95, 118,  92,  75],\n",
              "         [118, 140, 116,  91]]])"
            ]
          },
          "execution_count": 41,
          "metadata": {},
          "output_type": "execute_result"
        }
      ],
      "source": [
        "Ct\n"
      ]
    },
    {
      "cell_type": "markdown",
      "metadata": {
        "id": "QDlLBLqwk9j4"
      },
      "source": [
        "# Function Approximations"
      ]
    },
    {
      "cell_type": "markdown",
      "metadata": {
        "id": "Vqb-ZzO8k9j4"
      },
      "source": [
        "### Parabolic Function"
      ]
    },
    {
      "cell_type": "code",
      "execution_count": null,
      "metadata": {
        "id": "2AmVfkHPk9j5",
        "outputId": "047554ec-4933-426a-d104-423113bc7171"
      },
      "outputs": [
        {
          "name": "stdout",
          "output_type": "stream",
          "text": [
            "Collecting torchsummary\n",
            "  Downloading torchsummary-1.5.1-py3-none-any.whl (2.8 kB)\n",
            "Installing collected packages: torchsummary\n",
            "Successfully installed torchsummary-1.5.1\n",
            "\u001b[33mWARNING: You are using pip version 22.0.4; however, version 22.3.1 is available.\n",
            "You should consider upgrading via the '/Users/raj/opt/anaconda3/bin/python -m pip install --upgrade pip' command.\u001b[0m\u001b[33m\n",
            "\u001b[0m"
          ]
        }
      ],
      "source": [
        "!pip install torchsummary"
      ]
    },
    {
      "cell_type": "code",
      "execution_count": null,
      "metadata": {
        "id": "Rs_ZFJh5k9j5",
        "outputId": "9cf43a67-4c0f-464b-c3f8-ce843bfd34da"
      },
      "outputs": [
        {
          "data": {
            "image/png": "[encoded data removed]",
            "text/plain": [
              "<Figure size 576x288 with 1 Axes>"
            ]
          },
          "metadata": {
            "needs_background": "light"
          },
          "output_type": "display_data"
        }
      ],
      "source": [
        "import numpy as np\n",
        "import imageio\n",
        "import torch\n",
        "import torch.nn.functional as F\n",
        "import torch.utils.data as Data\n",
        "from torch.autograd import Variable\n",
        "from torch.optim import Adam, LBFGS, SGD\n",
        "from torch.utils.data import Dataset, DataLoader\n",
        "import matplotlib.pyplot as plt\n",
        "%matplotlib inline\n",
        "\n",
        "\n",
        "torch.manual_seed(1234)\n",
        "\n",
        "N_p = 100\n",
        "\n",
        "### Input data\n",
        "x = torch.unsqueeze(torch.linspace(-1, 1, N_p), dim=1)\n",
        "# torch.unsqueeze: Returns a new tensor\n",
        "# with a dimension of size one inserted at the specified position.\n",
        "y = torch.square(x)\n",
        "# Add Random Noise\n",
        "y = y + 0.1*torch.rand(y.size())\n",
        "\n",
        "# Plot the data\n",
        "plt.figure(figsize=(8,4))\n",
        "\n",
        "x_plot, y_plot = x.numpy(), y.numpy()\n",
        "plt.scatter(x_plot, y_plot, color=\"red\")\n",
        "plt.xlabel(\"x\")\n",
        "plt.ylabel(\"y\")\n",
        "plt.show(\"Data for Regression Analysis\")\n",
        "plt.show()\n",
        "\n",
        "\n",
        "\n",
        "\n",
        "\n"
      ]
    },
    {
      "cell_type": "code",
      "execution_count": null,
      "metadata": {
        "id": "PhdmRU3zk9j5",
        "outputId": "0f52540d-49a8-4634-c2e3-3add2de564e2"
      },
      "outputs": [
        {
          "name": "stdout",
          "output_type": "stream",
          "text": [
            "----------------------------------------------------------------\n",
            "        Layer (type)               Output Shape         Param #\n",
            "================================================================\n",
            "            Linear-1              [-1, 100, 40]              80\n",
            "         LeakyReLU-2              [-1, 100, 40]               0\n",
            "            Linear-3               [-1, 100, 1]              41\n",
            "================================================================\n",
            "Total params: 121\n",
            "Trainable params: 121\n",
            "Non-trainable params: 0\n",
            "----------------------------------------------------------------\n",
            "Input size (MB): 0.00\n",
            "Forward/backward pass size (MB): 0.06\n",
            "Params size (MB): 0.00\n",
            "Estimated Total Size (MB): 0.06\n",
            "----------------------------------------------------------------\n",
            "Doing Iterations: 0 and Loss: 0.23471900820732117\n"
          ]
        },
        {
          "name": "stderr",
          "output_type": "stream",
          "text": [
            "<ipython-input-83-f8a58e45b641>:42: UserWarning: nn.init.xavier_uniform is now deprecated in favor of nn.init.xavier_uniform_.\n",
            "  torch.nn.init.xavier_uniform(m.weight)\n"
          ]
        },
        {
          "name": "stdout",
          "output_type": "stream",
          "text": [
            "Doing Iterations: 50 and Loss: 0.0038674066308885813\n",
            "Doing Iterations: 100 and Loss: 0.0017179547576233745\n",
            "Doing Iterations: 150 and Loss: 0.0010395834688097239\n"
          ]
        },
        {
          "data": {
            "image/png": "[encoded data removed]",
            "text/plain": [
              "<Figure size 1080x720 with 1 Axes>"
            ]
          },
          "metadata": {
            "needs_background": "light"
          },
          "output_type": "display_data"
        }
      ],
      "source": [
        "import numpy as np\n",
        "import imageio\n",
        "import torch\n",
        "import torch.nn.functional as F\n",
        "import torch.utils.data as Data\n",
        "from torch.autograd import Variable\n",
        "from torch.optim import Adam, LBFGS, SGD\n",
        "import matplotlib.pyplot as plt\n",
        "%matplotlib inline\n",
        "from torchsummary import summary\n",
        "\n",
        "\n",
        "\n",
        "torch.manual_seed(1234)\n",
        "\n",
        "### Input data\n",
        "x = torch.unsqueeze(torch.linspace(-1, 1, 100), dim=1)\n",
        "# torch.unsqueeze: Returns a new tensor\n",
        "# with a dimension of size one inserted at the specified position.\n",
        "\n",
        "y = torch.square(x)\n",
        "# Add Random Noise\n",
        "y = y + 0.1*torch.rand(y.size())\n",
        "\n",
        "\n",
        "\n",
        "# Convert x and y to tracked variables\n",
        "\n",
        "in_dim = 1\n",
        "out_dim = 1\n",
        "\n",
        "Net = torch.nn.Sequential(\n",
        "      torch.nn.Linear(in_dim, 40),\n",
        "      torch.nn.LeakyReLU(),\n",
        "      torch.nn.Linear(40, out_dim))\n",
        "\n",
        "\n",
        "summary(Net, (100, 1))\n",
        "\n",
        "# def init_weights(m):\n",
        "#     if isinstance(m, torch.nn.Linear):\n",
        "#         torch.nn.init.xavier_uniform(m.weight)\n",
        "#         m.bias.data.fill_(0.00)\n",
        "\n",
        "# Net.apply(init_weights)\n",
        "\n",
        "# for name, params in Net.named_parameters():\n",
        "#     if params.requires_grad:\n",
        "#         print(f\"name: {name}\")\n",
        "#         print(f\"Params: {params}\")\n",
        "\n",
        "\n",
        "optimizer = torch.optim.Adam(Net.parameters(), lr = 0.01)\n",
        "loss_function = torch.nn.MSELoss()\n",
        "\n",
        "image_list = []\n",
        "Niter = 150 + 1\n",
        "\n",
        "fig, ax = plt.subplots(figsize=(15,10))\n",
        "\n",
        "for it in range(Niter):\n",
        "    y_pred = Net(x)\n",
        "    loss = loss_function(y_pred, y)\n",
        "    optimizer.zero_grad()\n",
        "    loss.backward()\n",
        "    optimizer.step()\n",
        "    if it % 50 == 0:\n",
        "        print(f\"Doing Iterations: {it} and Loss: {loss}\")\n",
        "    plt.cla()\n",
        "    ax.set_xlabel('x', fontsize=32)\n",
        "    ax.set_ylabel('y Predictied', fontsize=32)\n",
        "    ax.set_xlim(-1.5, 1.5)\n",
        "    ax.set_ylim(-0.5, 1.5)\n",
        "    ax.scatter(x_plot, y_plot, color = \"red\")\n",
        "    ax.plot(x_plot, y_pred.data.numpy(), 'k-', lw=4)\n",
        "    ax.text(-0.5, 1.3, 'It = %d,' %it, fontdict={'size': 22, 'color':  'black'})\n",
        "    ax.text(-0.1, 1.3, 'Loss = %.6f' % loss.data.numpy(),\n",
        "            fontdict={'size': 22, 'color':  'black'})\n",
        "\n",
        "    fig.canvas.draw()\n",
        "    image = np.frombuffer(fig.canvas.tostring_rgb(), dtype='uint8')\n",
        "    image  = image.reshape(fig.canvas.get_width_height()[::-1] + (3,))\n",
        "\n",
        "    image_list.append(image)\n",
        "\n",
        "\n",
        "\n",
        "imageio.mimsave('./Parabolic_regression_1.gif', image_list, fps=5)\n",
        "\n",
        "\n"
      ]
    },
    {
      "cell_type": "markdown",
      "metadata": {
        "id": "WxB-Qkp-k9j6"
      },
      "source": [
        "### Sin Function"
      ]
    },
    {
      "cell_type": "code",
      "execution_count": null,
      "metadata": {
        "id": "HGQm2Ldpk9j6",
        "outputId": "ef29b092-fb59-40d3-a545-a7b6b9592896"
      },
      "outputs": [
        {
          "data": {
            "image/png": "[encoded data removed]",
            "text/plain": [
              "<Figure size 576x288 with 1 Axes>"
            ]
          },
          "metadata": {
            "needs_background": "light"
          },
          "output_type": "display_data"
        }
      ],
      "source": [
        "import numpy as np\n",
        "import imageio\n",
        "import torch\n",
        "import torch.nn.functional as F\n",
        "import torch.utils.data as Data\n",
        "from torch.autograd import Variable\n",
        "import matplotlib.pyplot as plt\n",
        "%matplotlib inline\n",
        "torch.manual_seed(1234)\n",
        "\n",
        "### Input data\n",
        "x = torch.unsqueeze(torch.linspace(-6, 6, 100), dim=1)\n",
        "# torch.unsqueeze: Returns a new tensor\n",
        "# with a dimension of size one inserted at the specified position.\n",
        "y = torch.sin(x)\n",
        "# Add Random Noise\n",
        "y = y + 0.30*torch.rand(y.size())\n",
        "\n",
        "# Plot the data\n",
        "plt.figure(figsize=(8,4))\n",
        "\n",
        "x_plot, y_plot = x.numpy(), y.numpy()\n",
        "plt.scatter(x_plot, y_plot, color=\"red\")\n",
        "plt.xlabel(\"x\")\n",
        "plt.ylabel(\"y\")\n",
        "plt.show(\"Data for Regression Analysis\")\n",
        "plt.show()\n"
      ]
    },
    {
      "cell_type": "code",
      "execution_count": null,
      "metadata": {
        "id": "Cri4_y0uk9j6",
        "outputId": "6c9a9769-695d-4a0a-8f6d-ae250d37ebec"
      },
      "outputs": [
        {
          "name": "stdout",
          "output_type": "stream",
          "text": [
            "Doing Iterations: 0 and Loss: 0.8034062385559082\n",
            "Doing Iterations: 50 and Loss: 0.11373567581176758\n",
            "Doing Iterations: 100 and Loss: 0.10786443948745728\n",
            "Doing Iterations: 150 and Loss: 0.1027265340089798\n",
            "Doing Iterations: 200 and Loss: 0.09231911599636078\n",
            "Doing Iterations: 250 and Loss: 0.0758381336927414\n",
            "Doing Iterations: 300 and Loss: 0.05385994538664818\n",
            "Doing Iterations: 350 and Loss: 0.0337362065911293\n",
            "Doing Iterations: 400 and Loss: 0.019557828083634377\n",
            "Doing Iterations: 450 and Loss: 0.014799895696341991\n",
            "Doing Iterations: 500 and Loss: 0.012736027128994465\n",
            "Doing Iterations: 550 and Loss: 0.0102080674842\n",
            "Doing Iterations: 600 and Loss: 0.009226702153682709\n",
            "Doing Iterations: 650 and Loss: 0.008671664632856846\n",
            "Doing Iterations: 700 and Loss: 0.007980658672749996\n",
            "Doing Iterations: 750 and Loss: 0.007601229008287191\n",
            "Doing Iterations: 800 and Loss: 0.007699568290263414\n",
            "Doing Iterations: 850 and Loss: 0.0173762496560812\n",
            "Doing Iterations: 900 and Loss: 0.0065982164815068245\n",
            "Doing Iterations: 950 and Loss: 0.006443837657570839\n",
            "Doing Iterations: 1000 and Loss: 0.006208156235516071\n",
            "Doing Iterations: 1050 and Loss: 0.00615007383748889\n",
            "Doing Iterations: 1100 and Loss: 0.006340045481920242\n",
            "Doing Iterations: 1150 and Loss: 0.005843187682330608\n",
            "Doing Iterations: 1200 and Loss: 0.006181442644447088\n",
            "Doing Iterations: 1250 and Loss: 0.0067557478323578835\n",
            "Doing Iterations: 1300 and Loss: 0.007831340655684471\n",
            "Doing Iterations: 1350 and Loss: 0.005586026236414909\n",
            "Doing Iterations: 1400 and Loss: 0.005777559708803892\n",
            "Doing Iterations: 1450 and Loss: 0.007971156388521194\n",
            "Doing Iterations: 1500 and Loss: 0.005308262538164854\n"
          ]
        },
        {
          "data": {
            "image/png": "[encoded data removed]",
            "text/plain": [
              "<Figure size 1080x720 with 1 Axes>"
            ]
          },
          "metadata": {
            "needs_background": "light"
          },
          "output_type": "display_data"
        }
      ],
      "source": [
        "# Convert x and y to tracked variables\n",
        "x = Variable(x)\n",
        "y = Variable(y)\n",
        "\n",
        "Net = torch.nn.Sequential(\n",
        "      torch.nn.Linear(1, 100),\n",
        "      torch.nn.LeakyReLU(),\n",
        "      torch.nn.Linear(100, 1))\n",
        "\n",
        "optimizer = torch.optim.Adam(Net.parameters(), lr = 0.01)\n",
        "loss_function = torch.nn.MSELoss()\n",
        "\n",
        "image_list = []\n",
        "Niter = 1500 + 1\n",
        "\n",
        "fig, ax = plt.subplots(figsize=(15,10))\n",
        "\n",
        "for it in range(Niter):\n",
        "    y_pred = Net(x)\n",
        "    loss = loss_function(y_pred, y)  # Notice the order: NN Pred first and then actual value\n",
        "    optimizer.zero_grad()    # Zero Out the gradient\n",
        "    loss.backward()\n",
        "    optimizer.step()\n",
        "    if it % 50 == 0:\n",
        "        print(f\"Doing Iterations: {it} and Loss: {loss}\")\n",
        "    plt.cla()\n",
        "    ax.set_xlabel('x', fontsize=32)\n",
        "    ax.set_ylabel('y Predictied', fontsize=32)\n",
        "    ax.set_xlim(-6, 6)\n",
        "    ax.set_ylim(-1.8, 1.8)\n",
        "    ax.scatter(x_plot, y_plot, color = \"red\")\n",
        "    ax.plot(x_plot, y_pred.data.numpy(), 'k-', lw=4)\n",
        "    ax.text(0, 1.3, 'It = %d,' %it, fontdict={'size': 22, 'color':  'black'})\n",
        "    ax.text(2, 1.3, 'Loss = %.6f' % loss.data.numpy(),\n",
        "            fontdict={'size': 22, 'color':  'black'})\n",
        "\n",
        "    fig.canvas.draw()\n",
        "    image = np.frombuffer(fig.canvas.tostring_rgb(), dtype='uint8')\n",
        "    image  = image.reshape(fig.canvas.get_width_height()[::-1] + (3,))\n",
        "\n",
        "    image_list.append(image)\n",
        "\n",
        "\n",
        "\n",
        "imageio.mimsave('./Sin_Regression_2.gif', image_list, fps=20)"
      ]
    },
    {
      "cell_type": "markdown",
      "metadata": {
        "id": "w-QNcTVzk9j6"
      },
      "source": [
        "### Customizing Function"
      ]
    },
    {
      "cell_type": "code",
      "execution_count": null,
      "metadata": {
        "id": "Owgmgq-Vk9j7"
      },
      "outputs": [],
      "source": [
        "import torch\n",
        "import torch.nn as nn\n",
        "from torch.nn.parameter import Parameter\n",
        "import numpy as np\n",
        "import matplotlib.pyplot as plt\n",
        "\n",
        "'''\n",
        "clu = x * sigmoid(x) = (1/ (1 + exp(-x)))\n",
        "'''\n",
        "\n",
        "\n",
        "def caf(x):\n",
        "    return x * (1.0/(1.0 + torch.exp(-x)))"
      ]
    },
    {
      "cell_type": "code",
      "execution_count": null,
      "metadata": {
        "id": "uUhPk36Qk9j7",
        "outputId": "e3b3fbf1-1981-472b-da06-04f62ebf227b"
      },
      "outputs": [
        {
          "name": "stderr",
          "output_type": "stream",
          "text": [
            "<ipython-input-6-0dadf7916b2b>:1: UserWarning: Not providing a value for linspace's steps is deprecated and will throw a runtime error in a future release. This warning will appear only once per process. (Triggered internally at  /tmp/pip-req-build-_4mbk50o/aten/src/ATen/native/RangeFactories.cpp:25.)\n",
            "  x = torch.linspace(-10, 10).view((-1, 1))\n"
          ]
        },
        {
          "data": {
            "text/plain": [
              "[<matplotlib.lines.Line2D at 0x7fe86f7f05b0>]"
            ]
          },
          "execution_count": 6,
          "metadata": {},
          "output_type": "execute_result"
        },
        {
          "data": {
            "image/png": "[encoded data removed]",
            "text/plain": [
              "<Figure size 432x288 with 1 Axes>"
            ]
          },
          "metadata": {
            "needs_background": "light"
          },
          "output_type": "display_data"
        }
      ],
      "source": [
        "x = torch.linspace(-10, 10).view((-1, 1))\n",
        "y = caf(x)\n",
        "plt.plot(x, y, \"-r\")"
      ]
    },
    {
      "cell_type": "code",
      "execution_count": null,
      "metadata": {
        "id": "FHN0RsbKk9j7",
        "outputId": "fade36c2-4811-4b51-898c-f6bda77f6304"
      },
      "outputs": [
        {
          "data": {
            "text/plain": [
              "[<matplotlib.lines.Line2D at 0x7fe86fbc9430>]"
            ]
          },
          "execution_count": 9,
          "metadata": {},
          "output_type": "execute_result"
        },
        {
          "data": {
            "image/png": "[encoded data removed]",
            "text/plain": [
              "<Figure size 432x288 with 1 Axes>"
            ]
          },
          "metadata": {
            "needs_background": "light"
          },
          "output_type": "display_data"
        }
      ],
      "source": [
        "class CAF(nn.Module):\n",
        "    def __init__(self):\n",
        "        super().__init__()\n",
        "    def forward(self, x):\n",
        "        return caf(x)\n",
        "\n",
        "custom_af = CAF()\n",
        "\n",
        "Net = torch.nn.Sequential(\n",
        "     CAF()\n",
        "     )\n",
        "\n",
        "y = Net(x)\n",
        "\n",
        "plt.plot(y.detach().numpy())"
      ]
    },
    {
      "cell_type": "code",
      "execution_count": null,
      "metadata": {
        "id": "86DdLfRak9j7",
        "outputId": "bb91491f-9bd2-47b5-a076-b83502963a51"
      },
      "outputs": [
        {
          "name": "stdout",
          "output_type": "stream",
          "text": [
            "('Linear-1.weight', Parameter containing:\n",
            "tensor([[ 0.9132],\n",
            "        [ 0.9395],\n",
            "        [-0.4091],\n",
            "        [ 0.1909],\n",
            "        [ 0.9695],\n",
            "        [ 0.7378],\n",
            "        [ 0.5077],\n",
            "        [ 0.9854],\n",
            "        [ 0.9713],\n",
            "        [ 0.2693],\n",
            "        [ 0.7384],\n",
            "        [ 0.1516],\n",
            "        [ 0.0106],\n",
            "        [ 0.6430],\n",
            "        [-0.0820],\n",
            "        [-0.7945],\n",
            "        [-0.3422],\n",
            "        [ 0.3764],\n",
            "        [ 0.3546],\n",
            "        [-0.6190],\n",
            "        [ 0.5505],\n",
            "        [ 0.3775],\n",
            "        [ 0.5873],\n",
            "        [-0.4548],\n",
            "        [ 0.2216],\n",
            "        [ 0.4516],\n",
            "        [-0.2410],\n",
            "        [ 0.8732],\n",
            "        [ 0.4424],\n",
            "        [ 0.9401],\n",
            "        [-0.4402],\n",
            "        [ 0.3134],\n",
            "        [-0.2704],\n",
            "        [-0.7939],\n",
            "        [ 0.8844],\n",
            "        [-0.0355],\n",
            "        [-0.7825],\n",
            "        [ 0.6994],\n",
            "        [-0.2284],\n",
            "        [ 0.7483],\n",
            "        [-0.3458],\n",
            "        [-0.2138],\n",
            "        [-0.7022],\n",
            "        [-0.7431],\n",
            "        [ 0.8225],\n",
            "        [-0.0262],\n",
            "        [-0.0709],\n",
            "        [ 0.7240],\n",
            "        [ 0.1388],\n",
            "        [ 0.0276],\n",
            "        [-0.7179],\n",
            "        [-0.2941],\n",
            "        [ 0.2258],\n",
            "        [-0.1700],\n",
            "        [ 0.4402],\n",
            "        [-0.9187],\n",
            "        [-0.9120],\n",
            "        [-0.8183],\n",
            "        [ 0.4376],\n",
            "        [-0.8722],\n",
            "        [ 0.9520],\n",
            "        [-0.5454],\n",
            "        [-0.5437],\n",
            "        [-0.6551],\n",
            "        [-0.9396],\n",
            "        [ 0.1361],\n",
            "        [-0.2823],\n",
            "        [-0.8282],\n",
            "        [-0.0519],\n",
            "        [-0.2087],\n",
            "        [ 0.8285],\n",
            "        [-0.0175],\n",
            "        [ 0.6074],\n",
            "        [ 0.0238],\n",
            "        [ 0.1268],\n",
            "        [-0.4713],\n",
            "        [-0.9023],\n",
            "        [-0.1150],\n",
            "        [-0.7049],\n",
            "        [ 0.8643],\n",
            "        [-0.7150],\n",
            "        [ 0.5107],\n",
            "        [ 0.3085],\n",
            "        [-0.4814],\n",
            "        [ 0.0282],\n",
            "        [ 0.8997],\n",
            "        [ 0.4742],\n",
            "        [ 0.0678],\n",
            "        [ 0.9783],\n",
            "        [ 0.4206],\n",
            "        [-0.9108],\n",
            "        [ 0.8300],\n",
            "        [-0.5772],\n",
            "        [ 0.0281],\n",
            "        [-0.0190],\n",
            "        [ 0.1694],\n",
            "        [-0.0477],\n",
            "        [ 0.3372],\n",
            "        [-0.3949],\n",
            "        [ 0.3758]], requires_grad=True))\n",
            "('Linear-1.bias', Parameter containing:\n",
            "tensor([ 0.4226,  0.4846,  0.9357, -0.0886,  0.3123,  0.9010, -0.7507, -0.0365,\n",
            "         0.7909,  0.9422,  0.0493, -0.8576,  0.4413, -0.2715,  0.3329, -0.9915,\n",
            "         0.1156,  0.7393, -0.0256, -0.7417,  0.2403,  0.3516,  0.0911,  0.1018,\n",
            "         0.1210, -0.6272, -0.7861,  0.0856,  0.1393, -0.0436, -0.9358,  0.8719,\n",
            "        -0.2951, -0.2341, -0.2610, -0.2403,  0.1663,  0.7974,  0.9283, -0.8937,\n",
            "        -0.4279, -0.1243, -0.7820, -0.1406,  0.8111, -0.3170,  0.6155,  0.8784,\n",
            "         0.7060, -0.6006,  0.2623,  0.0201, -0.8235, -0.1712,  0.0946, -0.3902,\n",
            "        -0.7413,  0.7534,  0.6557,  0.9943, -0.9703, -0.0805, -0.4294, -0.8468,\n",
            "         0.2012,  0.1677,  0.6514,  0.7401, -0.8483,  0.2487,  0.1069, -0.6001,\n",
            "        -0.5091, -0.1881, -0.1822,  0.7398,  0.9097, -0.8744, -0.3405, -0.1887,\n",
            "        -0.8026, -0.0956,  0.7482,  0.7441, -0.9608,  0.9259, -0.2543, -0.0098,\n",
            "         0.3481, -0.3931, -0.6854,  0.4416, -0.9055,  0.2799, -0.1227,  0.4094,\n",
            "        -0.4047,  0.2511, -0.0289, -0.8446], requires_grad=True))\n",
            "('Customized AF.a', Parameter containing:\n",
            "tensor([0.1000], requires_grad=True))\n",
            "('Linear-2.weight', Parameter containing:\n",
            "tensor([[-0.0695, -0.0691,  0.0623, -0.0557, -0.0305,  0.0664, -0.0559,  0.0649,\n",
            "          0.0486,  0.0175, -0.0449,  0.0589, -0.0445,  0.0781,  0.0752,  0.0494,\n",
            "          0.0352, -0.0201,  0.0822, -0.0039,  0.0762, -0.0412, -0.0339,  0.0102,\n",
            "         -0.0409,  0.0206, -0.0109,  0.0691,  0.0019,  0.0347, -0.0245,  0.0057,\n",
            "          0.0049, -0.0776,  0.0168,  0.0379, -0.0700, -0.0812,  0.0189, -0.0878,\n",
            "         -0.0068,  0.0892,  0.0366, -0.0652, -0.0297, -0.0700, -0.0311, -0.0412,\n",
            "          0.0377,  0.0030, -0.0860, -0.0721, -0.0094, -0.0734, -0.0171, -0.0364,\n",
            "          0.0263,  0.0857, -0.0544,  0.0815, -0.0799, -0.0394, -0.0679, -0.0664,\n",
            "          0.0755, -0.0045,  0.0246,  0.0366,  0.0537, -0.0295,  0.0453, -0.0228,\n",
            "          0.0227, -0.0903,  0.0148, -0.0179, -0.0782,  0.0630,  0.0374,  0.0889,\n",
            "         -0.0462,  0.0653,  0.0792, -0.0616, -0.0479,  0.0393, -0.0403,  0.0901,\n",
            "          0.0853, -0.0142, -0.0207, -0.0712, -0.0725, -0.0805,  0.0397,  0.0578,\n",
            "          0.0614, -0.0130, -0.0875, -0.0577]], requires_grad=True))\n",
            "('Linear-2.bias', Parameter containing:\n",
            "tensor([-0.0571], requires_grad=True))\n"
          ]
        },
        {
          "data": {
            "text/plain": [
              "[<matplotlib.lines.Line2D at 0x7fe86faaa850>]"
            ]
          },
          "execution_count": 8,
          "metadata": {},
          "output_type": "execute_result"
        },
        {
          "data": {
            "image/png": "[encoded data removed]",
            "text/plain": [
              "<Figure size 432x288 with 1 Axes>"
            ]
          },
          "metadata": {
            "needs_background": "light"
          },
          "output_type": "display_data"
        }
      ],
      "source": [
        "from torchsummary import summary\n",
        "\n",
        "\n",
        "class CAF(nn.Module):\n",
        "    def __init__(self):\n",
        "        super().__init__()\n",
        "        self.a = nn.Parameter(torch.Tensor([0.1]), requires_grad=True)\n",
        "        self.N = 10.0\n",
        "\n",
        "    def forward(self, x):\n",
        "        return  self.a * caf(x)\n",
        "\n",
        "custom_af = CAF()\n",
        "\n",
        "Net = torch.nn.Sequential()\n",
        "Net.add_module(\"Linear-1\", torch.nn.Linear(1, 100))\n",
        "Net.add_module(\"Customized AF\",  CAF())\n",
        "Net.add_module(\"Linear-2\",   torch.nn.Linear(100, 1))\n",
        "\n",
        "\n",
        "\n",
        "y = Net(x)\n",
        "\n",
        "for parameter in Net.named_parameters():\n",
        "    print(parameter)\n",
        "\n",
        "plt.plot(y.detach().numpy())"
      ]
    },
    {
      "cell_type": "code",
      "execution_count": null,
      "metadata": {
        "id": "-QFhcyu9k9j7",
        "outputId": "abe3347d-8dfe-46db-a872-54cc31342953"
      },
      "outputs": [
        {
          "name": "stdout",
          "output_type": "stream",
          "text": [
            "----------------------------------------------------------------\n",
            "        Layer (type)               Output Shape         Param #\n",
            "================================================================\n",
            "               CAF-1               [-1, 100, 1]               0\n"
          ]
        },
        {
          "ename": "AttributeError",
          "evalue": "'int' object has no attribute 'numpy'",
          "output_type": "error",
          "traceback": [
            "\u001b[0;31m---------------------------------------------------------------------------\u001b[0m",
            "\u001b[0;31mAttributeError\u001b[0m                            Traceback (most recent call last)",
            "\u001b[0;32m<ipython-input-60-57c7c5dd1ceb>\u001b[0m in \u001b[0;36m<module>\u001b[0;34m\u001b[0m\n\u001b[0;32m----> 1\u001b[0;31m \u001b[0msummary\u001b[0m\u001b[0;34m(\u001b[0m\u001b[0mNet\u001b[0m\u001b[0;34m,\u001b[0m \u001b[0;34m(\u001b[0m\u001b[0;36m100\u001b[0m\u001b[0;34m,\u001b[0m\u001b[0;36m1\u001b[0m\u001b[0;34m)\u001b[0m\u001b[0;34m)\u001b[0m\u001b[0;34m\u001b[0m\u001b[0;34m\u001b[0m\u001b[0m\n\u001b[0m",
            "\u001b[0;32m~/opt/anaconda3/lib/python3.8/site-packages/torchsummary/torchsummary.py\u001b[0m in \u001b[0;36msummary\u001b[0;34m(model, input_size, batch_size, device)\u001b[0m\n\u001b[1;32m    100\u001b[0m     \u001b[0mtotal_input_size\u001b[0m \u001b[0;34m=\u001b[0m \u001b[0mabs\u001b[0m\u001b[0;34m(\u001b[0m\u001b[0mnp\u001b[0m\u001b[0;34m.\u001b[0m\u001b[0mprod\u001b[0m\u001b[0;34m(\u001b[0m\u001b[0minput_size\u001b[0m\u001b[0;34m)\u001b[0m \u001b[0;34m*\u001b[0m \u001b[0mbatch_size\u001b[0m \u001b[0;34m*\u001b[0m \u001b[0;36m4.\u001b[0m \u001b[0;34m/\u001b[0m \u001b[0;34m(\u001b[0m\u001b[0;36m1024\u001b[0m \u001b[0;34m**\u001b[0m \u001b[0;36m2.\u001b[0m\u001b[0;34m)\u001b[0m\u001b[0;34m)\u001b[0m\u001b[0;34m\u001b[0m\u001b[0;34m\u001b[0m\u001b[0m\n\u001b[1;32m    101\u001b[0m     \u001b[0mtotal_output_size\u001b[0m \u001b[0;34m=\u001b[0m \u001b[0mabs\u001b[0m\u001b[0;34m(\u001b[0m\u001b[0;36m2.\u001b[0m \u001b[0;34m*\u001b[0m \u001b[0mtotal_output\u001b[0m \u001b[0;34m*\u001b[0m \u001b[0;36m4.\u001b[0m \u001b[0;34m/\u001b[0m \u001b[0;34m(\u001b[0m\u001b[0;36m1024\u001b[0m \u001b[0;34m**\u001b[0m \u001b[0;36m2.\u001b[0m\u001b[0;34m)\u001b[0m\u001b[0;34m)\u001b[0m  \u001b[0;31m# x2 for gradients\u001b[0m\u001b[0;34m\u001b[0m\u001b[0;34m\u001b[0m\u001b[0m\n\u001b[0;32m--> 102\u001b[0;31m     \u001b[0mtotal_params_size\u001b[0m \u001b[0;34m=\u001b[0m \u001b[0mabs\u001b[0m\u001b[0;34m(\u001b[0m\u001b[0mtotal_params\u001b[0m\u001b[0;34m.\u001b[0m\u001b[0mnumpy\u001b[0m\u001b[0;34m(\u001b[0m\u001b[0;34m)\u001b[0m \u001b[0;34m*\u001b[0m \u001b[0;36m4.\u001b[0m \u001b[0;34m/\u001b[0m \u001b[0;34m(\u001b[0m\u001b[0;36m1024\u001b[0m \u001b[0;34m**\u001b[0m \u001b[0;36m2.\u001b[0m\u001b[0;34m)\u001b[0m\u001b[0;34m)\u001b[0m\u001b[0;34m\u001b[0m\u001b[0;34m\u001b[0m\u001b[0m\n\u001b[0m\u001b[1;32m    103\u001b[0m     \u001b[0mtotal_size\u001b[0m \u001b[0;34m=\u001b[0m \u001b[0mtotal_params_size\u001b[0m \u001b[0;34m+\u001b[0m \u001b[0mtotal_output_size\u001b[0m \u001b[0;34m+\u001b[0m \u001b[0mtotal_input_size\u001b[0m\u001b[0;34m\u001b[0m\u001b[0;34m\u001b[0m\u001b[0m\n\u001b[1;32m    104\u001b[0m \u001b[0;34m\u001b[0m\u001b[0m\n",
            "\u001b[0;31mAttributeError\u001b[0m: 'int' object has no attribute 'numpy'"
          ]
        }
      ],
      "source": [
        "summary(Net, (100,1))"
      ]
    },
    {
      "cell_type": "code",
      "execution_count": null,
      "metadata": {
        "id": "hQakhG8jk9j7"
      },
      "outputs": [],
      "source": []
    }
  ],
  "metadata": {
    "kernelspec": {
      "display_name": "Python 3",
      "language": "python",
      "name": "python3"
    },
    "language_info": {
      "codemirror_mode": {
        "name": "ipython",
        "version": 3
      },
      "file_extension": ".py",
      "mimetype": "text/x-python",
      "name": "python",
      "nbconvert_exporter": "python",
      "pygments_lexer": "ipython3",
      "version": "3.8.8"
    },
    "colab": {
      "provenance": [],
      "include_colab_link": true
    }
  },
  "nbformat": 4,
  "nbformat_minor": 0
}